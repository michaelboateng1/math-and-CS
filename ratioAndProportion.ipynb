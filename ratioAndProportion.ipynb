{
 "cells": [
  {
   "cell_type": "markdown",
   "metadata": {},
   "source": [
    "# Ratio And Proportion\n",
    "\n",
    "Ratios are also known as fractions eg. $\\left(\\frac{1}{2}, \\frac{3}{4}, \\frac{10}{10}\\right)$"
   ]
  },
  {
   "cell_type": "markdown",
   "metadata": {},
   "source": [
    "## Proportion\n",
    "\n",
    "Proportions are two equal ratios eg. $\\left(\\frac{1}{2} = \\frac{2}{3}, \\frac{4}{4} = \\frac{4}{4}, \\frac{0}{5} = \\frac{0}{100000}\\right)$"
   ]
  },
  {
   "cell_type": "markdown",
   "metadata": {},
   "source": [
    "### Solving for $x$\n",
    "\n",
    " $$\\frac{n1}{d1} = \\frac{x}{d2}$$\n",
    "\n",
    "The most common and simple way to solve for $x$ is by cross multiplication\n",
    "\n",
    " $$n1*d2 = x*d1$$\n",
    "\n",
    "This is an equation where $n1*d2$ is equal to $x*d1$\n",
    "\n",
    "Since they're equal, anything you do to one side must be applied at the other side for the effect to cancel out \n",
    "\n",
    "The way to solve for $x$ is to get $x$ on one side:\n",
    "\n",
    " $$n1*d2 = x*d1$$\n",
    "\n",
    " To get $x$ on one side we have to reverse the multiplication and the reverse of multiplication is division\n",
    "\n",
    " $$x = \\frac{n1*d2}{d1}$$\n"
   ]
  },
  {
   "cell_type": "markdown",
   "metadata": {},
   "source": [
    "## Setup a Proportion\n",
    "\n",
    "$$\\frac{n1}{d1} = \\frac{n2}{d2}$$"
   ]
  },
  {
   "cell_type": "code",
   "execution_count": 8,
   "metadata": {},
   "outputs": [
    {
     "name": "stdout",
     "output_type": "stream",
     "text": [
      "x = 3\n"
     ]
    }
   ],
   "source": [
    "# Put 0 for the unknown number\n",
    "n1 = 0\n",
    "d1 = 1\n",
    "n2 = 3\n",
    "d2 = 1\n",
    "\n",
    "if(n2 == 0):\n",
    "    solution = (n1 * d2) // d1\n",
    "    print(f\"x = {solution}\")\n",
    "elif(d2 == 0):\n",
    "    solution = (n2 * d1) // n1\n",
    "    print(f\"x = {solution}\")\n",
    "elif(n1 == 0):\n",
    "    solution = (n2 * d1) // d2\n",
    "    print(f\"x = {solution}\")\n",
    "else:\n",
    "    solution = (n1 * d2) // n2\n",
    "    print(f'x = {solution}')"
   ]
  },
  {
   "cell_type": "markdown",
   "metadata": {},
   "source": [
    "# Uses of Proportions\n",
    "\n",
    "Proportions can be used in unit conversions. ie.(converting from miles to kilometers)\n",
    "\n",
    "- Converting from miles to kilometers\n",
    "\n",
    "    $1mile = 1.6km$\n",
    "\n",
    "    $$\\frac{1 mile}{1.6 km} = \\frac{x mile}{y km}$$\n",
    "\n",
    "  - Cross multipy\n",
    "    $$xmile * 1.6km = 1mile * ykm$$\n",
    "\n",
    "  - Flip the equation to solve for $ykm$\n",
    "    $$1mile * ykm = xmile * 1.6km$$\n",
    "\n",
    "  - Formlar \n",
    "    $$ykm = \\frac{1.6km * xmile}{1mile}$$\n",
    "\n",
    "\n",
    "\n"
   ]
  },
  {
   "cell_type": "code",
   "execution_count": 23,
   "metadata": {},
   "outputs": [
    {
     "name": "stdout",
     "output_type": "stream",
     "text": [
      "20 miles = 32.0 km\n"
     ]
    }
   ],
   "source": [
    "# Unit conversion using proportion\n",
    "\n",
    "#Put 0 for the unknown variable\n",
    "mile = 1\n",
    "km = 1.6\n",
    "y = 0\n",
    "\n",
    "# Get value in miles\n",
    "x = input(\"Enter value for x (miles) to convert from mile to km:\\n\")\n",
    "\n",
    "\n",
    "# solve for y\n",
    "if(x):\n",
    "    y = (km * float(x)) / mile\n",
    "    print(f\"{x} miles = {y} km\")\n",
    "else:\n",
    "    print(\"Sorry, I didn't get your value\")\n",
    "\n"
   ]
  },
  {
   "cell_type": "markdown",
   "metadata": {},
   "source": [
    "- Converting from Kilometers to Miles\n",
    "  \n",
    "  $1mile = 1.6km$\n",
    "\n",
    "  $$\\frac{1 mile}{1.6km} = \\frac{xmile}{ykm}$$\n",
    "\n",
    "  - Cross multiply\n",
    "    $$xmile * 1.6km = 1mile * ykm$$\n",
    "\n",
    "  - Formlar\n",
    "    $$xmile = \\frac{1mile * ykm}{1.6km}$$\n",
    "  "
   ]
  },
  {
   "cell_type": "code",
   "execution_count": 24,
   "metadata": {},
   "outputs": [
    {
     "name": "stdout",
     "output_type": "stream",
     "text": [
      "32 km = 20.0 miles\n"
     ]
    }
   ],
   "source": [
    "# Put 0 for the unknown variable\n",
    "\n",
    "mile = 1\n",
    "km = 1.6\n",
    "x = 0\n",
    "\n",
    "# Get value for kilometers\n",
    "y = input(\"Enter value for y (km) to convert from km to miles:\\n\")\n",
    "\n",
    "if(y):\n",
    "    x = (mile * float(y)) / km\n",
    "    print(f\"{y} km = {x} miles\")\n",
    "else:\n",
    "    print(\"I didn't get your value\")\n"
   ]
  }
 ],
 "metadata": {
  "kernelspec": {
   "display_name": "Python 3",
   "language": "python",
   "name": "python3"
  },
  "language_info": {
   "codemirror_mode": {
    "name": "ipython",
    "version": 3
   },
   "file_extension": ".py",
   "mimetype": "text/x-python",
   "name": "python",
   "nbconvert_exporter": "python",
   "pygments_lexer": "ipython3",
   "version": "3.12.0"
  }
 },
 "nbformat": 4,
 "nbformat_minor": 2
}
