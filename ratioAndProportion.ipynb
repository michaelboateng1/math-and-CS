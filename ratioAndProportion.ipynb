{
 "cells": [
  {
   "cell_type": "code",
   "execution_count": 3,
   "metadata": {},
   "outputs": [
    {
     "name": "stdout",
     "output_type": "stream",
     "text": [
      "2*x*f(x, y, z)\n"
     ]
    }
   ],
   "source": [
    "\n",
    "from sympy import symbols, Function, simplify\n",
    "\n",
    "# Define the symbols\n",
    "x, y, z = symbols('x y z')\n",
    "# Define the function\n",
    "f = Function('f')(x, y, z)\n",
    "# Define the expression\n",
    "expr = f * (x + y + z) + f * (x - y - z)\n",
    "# Simplify the expression\n",
    "simplified_expr = simplify(expr)\n",
    "# Print the simplified expression\n",
    "print(simplified_expr)"
   ]
  },
  {
   "cell_type": "code",
   "execution_count": 4,
   "metadata": {},
   "outputs": [
    {
     "name": "stdout",
     "output_type": "stream",
     "text": [
      "2*x*f(x, y, z)\n"
     ]
    }
   ],
   "source": [
    "\n",
    "from sympy import symbols, Function, simplify\n",
    "\n",
    "# Define the symbols\n",
    "x, y, z = symbols('x y z')\n",
    "# Define the function\n",
    "f = Function('f')(x, y, z)\n",
    "# Define the expression\n",
    "expr = f * (x + y + z) + f * (x - y - z)\n",
    "# Simplify the expression\n",
    "simplified_expr = simplify(expr)\n",
    "# Print the simplified expression\n",
    "print(simplified_expr)"
   ]
  }
 ],
 "metadata": {
  "kernelspec": {
   "display_name": "Python 3",
   "language": "python",
   "name": "python3"
  },
  "language_info": {
   "codemirror_mode": {
    "name": "ipython",
    "version": 3
   },
   "file_extension": ".py",
   "mimetype": "text/x-python",
   "name": "python",
   "nbconvert_exporter": "python",
   "pygments_lexer": "ipython3",
   "version": "3.12.0"
  }
 },
 "nbformat": 4,
 "nbformat_minor": 2
}
